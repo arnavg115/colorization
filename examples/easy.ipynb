{
 "cells": [
  {
   "cell_type": "code",
   "execution_count": null,
   "source": [
    "# Example usage of the pipeline (easy method)\n",
    "Use the pipeline to easily colorize images\n",
    "[![open with colab](https://colab.research.google.com/assets/colab-badge.svg)](https://colab.research.google.com/github/arnavg115/colorization/blob/master/examples/main.ipynb)"
   ],
   "outputs": [],
   "metadata": {}
  },
  {
   "cell_type": "code",
   "execution_count": null,
   "source": [
    "!pip install rz-colorization\n",
    "!wget -O bw.jpg https://bloximages.chicago2.vip.townnews.com/nwitimes.com/content/tncms/assets/v3/editorial/f/80/f809d1ca-77b7-56e0-9880-0b3534b8c4f2/5670d4e869b52.image.jpg?resize=1200%2C966"
   ],
   "outputs": [],
   "metadata": {}
  },
  {
   "cell_type": "code",
   "execution_count": null,
   "source": [
    "from colorizers import pipeline\n",
    "res = pipeline(\"bg.jpg\")\n",
    "rt = plt.imshow(res)"
   ],
   "outputs": [],
   "metadata": {}
  }
 ],
 "metadata": {
  "orig_nbformat": 4,
  "language_info": {
   "name": "plaintext"
  }
 },
 "nbformat": 4,
 "nbformat_minor": 2
}