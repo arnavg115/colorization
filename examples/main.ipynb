{
 "cells": [
  {
   "cell_type": "markdown",
   "source": [
    "# Example usage of this package\n"
   ],
   "metadata": {}
  },
  {
   "cell_type": "markdown",
   "source": [
    "[![open with colab](https://colab.research.google.com/assets/colab-badge.svg)](https://colab.research.google.com/github/arnavg115/colorization/blob/master/examples/main.ipynb)"
   ],
   "metadata": {}
  },
  {
   "cell_type": "code",
   "execution_count": null,
   "source": [
    "!pip install rz-colorization\n",
    "!wget -O bw.jpg https://bloximages.chicago2.vip.townnews.com/nwitimes.com/content/tncms/assets/v3/editorial/f/80/f809d1ca-77b7-56e0-9880-0b3534b8c4f2/5670d4e869b52.image.jpg?resize=1200%2C966"
   ],
   "outputs": [],
   "metadata": {}
  },
  {
   "cell_type": "code",
   "execution_count": null,
   "source": [
    "from colorizers import eccv16,load_img, postprocess_tens,preprocess_img\n",
    "import torch\n",
    "import matplotlib.pyplot as plt\n",
    "import PIL\n",
    "import numpy as np"
   ],
   "outputs": [],
   "metadata": {}
  },
  {
   "cell_type": "code",
   "execution_count": null,
   "source": [
    "image = load_img(\"bw.jpg\")\n",
    "(tens_l_orig, tens_l_rs) = preprocess_img(image, HW=(256,256))\n",
    "colorizer_model = eccv16().eval()"
   ],
   "outputs": [],
   "metadata": {}
  },
  {
   "cell_type": "code",
   "execution_count": null,
   "source": [
    "out_img_eccv16 = postprocess_tens(tens_l_orig, colorizer_model(tens_l_rs).cpu())"
   ],
   "outputs": [],
   "metadata": {}
  },
  {
   "cell_type": "code",
   "execution_count": null,
   "source": [
    "og = np.asarray(PIL.Image.open(\"bw.jpg\"))\n",
    "print(\"Original\")\n",
    "plt.imshow(og,cmap=\"gray\")\n",
    "plt.show()\n",
    "print(\"Colorized\")\n",
    "res = plt.imshow(out_img_eccv16)"
   ],
   "outputs": [],
   "metadata": {}
  }
 ],
 "metadata": {
  "orig_nbformat": 4,
  "language_info": {
   "name": "plaintext"
  }
 },
 "nbformat": 4,
 "nbformat_minor": 2
}